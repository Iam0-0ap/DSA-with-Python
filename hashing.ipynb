{
 "cells": [
  {
   "attachments": {},
   "cell_type": "markdown",
   "metadata": {},
   "source": [
    "### Hashing \n",
    "\n",
    "for hashing python makes use of dictionary. from the key->value pair of a python dict, the values are retrieved through special hashing function.\n",
    "In our case lets use inbuilt `ord()` function as hashing function. This basically returns ASCII equivalent of the character entered "
   ]
  },
  {
   "cell_type": "code",
   "execution_count": 71,
   "metadata": {},
   "outputs": [
    {
     "name": "stdout",
     "output_type": "stream",
     "text": [
      "7\n"
     ]
    }
   ],
   "source": [
    "string1 = \"march 4\"\n",
    "h = 0\n",
    "for char in string1:\n",
    "    h += ord(char)\n",
    "    r = h % 100\n",
    "print(r)"
   ]
  },
  {
   "cell_type": "code",
   "execution_count": 49,
   "metadata": {},
   "outputs": [],
   "source": [
    "class HashTable:\n",
    "    def __init__(self):\n",
    "        self.MAX = 100  #size of the hash table (list)\n",
    "        self.arr = [[] for i in range(self.MAX)]\n",
    "    \n",
    "    def get_hash(self, key):\n",
    "        h = 0\n",
    "        for char in key:\n",
    "            h += ord(char)\n",
    "        return h % self.MAX\n",
    "    \n",
    "    def add(self, key, val):\n",
    "        h= self.get_hash(key)\n",
    "        self.arr[h] = val\n",
    "    \n",
    "    def get(self, key):\n",
    "        h = self.get_hash(key)\n",
    "        return self.arr[h]"
   ]
  },
  {
   "attachments": {},
   "cell_type": "markdown",
   "metadata": {},
   "source": [
    "so basically what we are doing here is; we are searching for the value using the index key.\n",
    "since key is a string, we first convert it into some int using the hash function "
   ]
  },
  {
   "cell_type": "code",
   "execution_count": 53,
   "metadata": {},
   "outputs": [],
   "source": [
    "x = HashTable()\n",
    "# x.get_hash('ADARSHA')\n",
    "x.add('ADARSHA', 123)\n",
    "x.add('june 12', 23)"
   ]
  },
  {
   "cell_type": "code",
   "execution_count": 54,
   "metadata": {},
   "outputs": [
    {
     "data": {
      "text/plain": [
       "23"
      ]
     },
     "execution_count": 54,
     "metadata": {},
     "output_type": "execute_result"
    }
   ],
   "source": [
    "x.get('june 12')"
   ]
  },
  {
   "attachments": {},
   "cell_type": "markdown",
   "metadata": {},
   "source": [
    "Since we are converting the key which is a string into an integer, what if two pieces of data in a hash table share the same hash value?\n",
    "This condition is called `Collision`.\n",
    "\n",
    "Lets look at how to handle Collision"
   ]
  },
  {
   "cell_type": "code",
   "execution_count": 78,
   "metadata": {},
   "outputs": [
    {
     "data": {
      "text/plain": [
       "9"
      ]
     },
     "execution_count": 78,
     "metadata": {},
     "output_type": "execute_result"
    }
   ],
   "source": [
    "\n",
    "x.get_hash(\"may 2\")"
   ]
  },
  {
   "cell_type": "code",
   "execution_count": 79,
   "metadata": {},
   "outputs": [
    {
     "data": {
      "text/plain": [
       "9"
      ]
     },
     "execution_count": 79,
     "metadata": {},
     "output_type": "execute_result"
    }
   ],
   "source": [
    "x.get_hash(\"march 6\")"
   ]
  },
  {
   "cell_type": "code",
   "execution_count": 80,
   "metadata": {},
   "outputs": [],
   "source": [
    "x.add('march 6', 133)\n",
    "x.add('march 7', 45)\n",
    "x.add('march 8', 78)\n",
    "x.add('may 2', 234)"
   ]
  },
  {
   "cell_type": "code",
   "execution_count": 85,
   "metadata": {},
   "outputs": [
    {
     "data": {
      "text/plain": [
       "234"
      ]
     },
     "execution_count": 85,
     "metadata": {},
     "output_type": "execute_result"
    }
   ],
   "source": [
    "x.get('march 6')"
   ]
  },
  {
   "attachments": {},
   "cell_type": "markdown",
   "metadata": {},
   "source": [
    "As both the indexes may 2 and march 6 have same indexes, here we can see the collision. "
   ]
  },
  {
   "attachments": {},
   "cell_type": "markdown",
   "metadata": {},
   "source": [
    "### Linear Probing"
   ]
  },
  {
   "cell_type": "code",
   "execution_count": 86,
   "metadata": {},
   "outputs": [],
   "source": [
    "class LinearProbingHashTable:\n",
    "    def __init__(self, size):\n",
    "        self.size = size\n",
    "        self.keys = [None] * self.size\n",
    "        self.values = [None] * self.size\n",
    "\n",
    "    def hash_function(self, key):\n",
    "        return hash(key) % self.size\n",
    "\n",
    "    def insert(self, key, value):\n",
    "        index = self.hash_function(key)\n",
    "        while self.keys[index] is not None:\n",
    "            if self.keys[index] == key:\n",
    "                # Update value if key already exists\n",
    "                self.values[index] = value\n",
    "                return\n",
    "            index = (index + 1) % self.size\n",
    "        self.keys[index] = key\n",
    "        self.values[index] = value\n",
    "\n",
    "    def get(self, key):\n",
    "        index = self.hash_function(key)\n",
    "        while self.keys[index] is not None:\n",
    "            if self.keys[index] == key:\n",
    "                return self.values[index]\n",
    "            index = (index + 1) % self.size\n",
    "        return None\n"
   ]
  },
  {
   "cell_type": "code",
   "execution_count": 91,
   "metadata": {},
   "outputs": [
    {
     "name": "stdout",
     "output_type": "stream",
     "text": [
      "10\n",
      "5\n"
     ]
    }
   ],
   "source": [
    "linear_probing_table = LinearProbingHashTable(10)\n",
    "linear_probing_table.insert(\"apple\", 10)\n",
    "linear_probing_table.insert(\"banana\", 5)\n",
    "print(linear_probing_table.get(\"apple\"))  \n",
    "print(linear_probing_table.get(\"banana\"))  "
   ]
  },
  {
   "attachments": {},
   "cell_type": "markdown",
   "metadata": {},
   "source": [
    "### Chaining"
   ]
  },
  {
   "cell_type": "code",
   "execution_count": 88,
   "metadata": {},
   "outputs": [],
   "source": [
    "class ChainingHashTable:\n",
    "    def __init__(self, size):\n",
    "        self.size = size\n",
    "        self.table = [[] for _ in range(self.size)]\n",
    "\n",
    "    def hash_function(self, key):\n",
    "        return hash(key) % self.size\n",
    "\n",
    "    def insert(self, key, value):\n",
    "        index = self.hash_function(key)\n",
    "        chain = self.table[index]\n",
    "        for i in range(len(chain)):\n",
    "            if chain[i][0] == key:\n",
    "                # Update value if key already exists\n",
    "                chain[i] = (key, value)\n",
    "                return\n",
    "        chain.append((key, value))\n",
    "\n",
    "    def get(self, key):\n",
    "        index = self.hash_function(key)\n",
    "        chain = self.table[index]\n",
    "        for item in chain:\n",
    "            if item[0] == key:\n",
    "                return item[1]\n",
    "        return None\n"
   ]
  },
  {
   "cell_type": "code",
   "execution_count": 90,
   "metadata": {},
   "outputs": [
    {
     "name": "stdout",
     "output_type": "stream",
     "text": [
      "10\n",
      "5\n"
     ]
    }
   ],
   "source": [
    "chaining_table = ChainingHashTable(10)\n",
    "chaining_table.insert(\"apple\", 10)\n",
    "chaining_table.insert(\"banana\", 5)\n",
    "print(chaining_table.get(\"apple\"))  \n",
    "print(chaining_table.get(\"banana\"))  "
   ]
  }
 ],
 "metadata": {
  "kernelspec": {
   "display_name": "Python 3",
   "language": "python",
   "name": "python3"
  },
  "language_info": {
   "codemirror_mode": {
    "name": "ipython",
    "version": 3
   },
   "file_extension": ".py",
   "mimetype": "text/x-python",
   "name": "python",
   "nbconvert_exporter": "python",
   "pygments_lexer": "ipython3",
   "version": "3.9.5"
  },
  "orig_nbformat": 4
 },
 "nbformat": 4,
 "nbformat_minor": 2
}
