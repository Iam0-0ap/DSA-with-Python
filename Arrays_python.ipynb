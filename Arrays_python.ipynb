{
 "cells": [
  {
   "attachments": {},
   "cell_type": "markdown",
   "metadata": {},
   "source": [
    "## Array using List in Python"
   ]
  },
  {
   "cell_type": "code",
   "execution_count": 1,
   "metadata": {},
   "outputs": [
    {
     "data": {
      "text/plain": [
       "[3, 1, 3, 4, 5, 6, 8]"
      ]
     },
     "execution_count": 1,
     "metadata": {},
     "output_type": "execute_result"
    }
   ],
   "source": [
    "# insert 3 at index 0\n",
    "lst = [1, 3, 4, 5, 6, 8]\n",
    "lst.insert(0, 3)\n",
    "lst"
   ]
  },
  {
   "cell_type": "code",
   "execution_count": 7,
   "metadata": {},
   "outputs": [],
   "source": [
    "# to remove the item from the list\n",
    "lst.remove(3)"
   ]
  },
  {
   "cell_type": "code",
   "execution_count": 8,
   "metadata": {},
   "outputs": [
    {
     "data": {
      "text/plain": [
       "[3, 5, 6, 8]"
      ]
     },
     "execution_count": 8,
     "metadata": {},
     "output_type": "execute_result"
    }
   ],
   "source": [
    "lst"
   ]
  },
  {
   "cell_type": "code",
   "execution_count": 9,
   "metadata": {},
   "outputs": [
    {
     "data": {
      "text/plain": [
       "[3, 5, 8]"
      ]
     },
     "execution_count": 9,
     "metadata": {},
     "output_type": "execute_result"
    }
   ],
   "source": [
    "# remove/ pop the element from the index \n",
    "lst.pop(2)  # pops the index 2 element from the list\n",
    "lst"
   ]
  },
  {
   "attachments": {},
   "cell_type": "markdown",
   "metadata": {},
   "source": [
    "\n",
    "    Let us say your expense for every month are listed below,\n",
    "        January - 2200\n",
    "        February - 2350\n",
    "        March - 2600\n",
    "        April - 2130\n",
    "        May - 2190\n",
    "\n",
    "Create a list to store these monthly expenses and using that find out,\n",
    "1. In Feb, how many dollars you spent extra compare to January?\n",
    "2. Find out your total expense in first quarter (first three months) of the year.\n",
    "3. Find out if you spent exactly 2000 dollars in any month\n",
    "4. June month just finished and your expense is 1980 dollar. Add this item to our monthly expense list\n",
    "5. You returned an item that you bought in a month of April and\n",
    "got a refund of 200$. Make a correction to your monthly expense list\n",
    "based on this"
   ]
  },
  {
   "cell_type": "code",
   "execution_count": 33,
   "metadata": {},
   "outputs": [
    {
     "name": "stdout",
     "output_type": "stream",
     "text": [
      "In Feb 150 dollars were spend extra compared to Jan\n",
      "The total expense in first quarter of the year is 7150 dollars\n",
      "false\n",
      "expense of june is [2200, 2350, 2600, 2130, 2190, 1980]\n"
     ]
    },
    {
     "data": {
      "text/plain": [
       "1930"
      ]
     },
     "execution_count": 33,
     "metadata": {},
     "output_type": "execute_result"
    }
   ],
   "source": [
    "exp = [2200, 2350, 2600, 2130, 2190]\n",
    "\n",
    "# qn1 \n",
    "print (f'In Feb {exp[1]-exp[0]} dollars were spend extra compared to Jan')\n",
    "\n",
    "#qn2\n",
    "print(f'The total expense in first quarter of the year is {exp[0]+exp[1]+exp[2]} dollars')\n",
    "\n",
    "#qn3\n",
    "if 2000 in exp:\n",
    "    print(\"True\")\n",
    "else:\n",
    "    print(\"false\")\n",
    "\n",
    "#qn4\n",
    "exp.append(1980)\n",
    "print(f'expense of june is {exp}')\n",
    "\n",
    "#qn 5\n",
    "exp[3] = exp[3] - 200\n",
    "exp[3]"
   ]
  },
  {
   "attachments": {},
   "cell_type": "markdown",
   "metadata": {},
   "source": [
    "\n",
    "    You have a list of your favourite marvel super heros.\n",
    "\n",
    "heros=['spider man','thor','hulk','iron man','captain america']\n",
    "\n",
    "Using this find out,\n",
    "\n",
    "1. Length of the list\n",
    "2. Add 'black panther' at the end of this list\n",
    "3. You realize that you need to add 'black panther' after 'hulk',\n",
    "   so remove it from the list first and then add it after 'hulk'\n",
    "4. Now you don't like thor and hulk because they get angry easily :)\n",
    "   So you want to remove thor and hulk from list and replace them with doctor strange (because he is cool).\n",
    "   Do that with one line of code.\n",
    "5. Sort the heros list in alphabetical order (Hint. Use dir() functions to list down all functions available in list)\n"
   ]
  },
  {
   "cell_type": "code",
   "execution_count": 50,
   "metadata": {},
   "outputs": [
    {
     "name": "stdout",
     "output_type": "stream",
     "text": [
      "The length of the list is 5\n",
      "['spider man', 'thor', 'hulk', 'iron man', 'captain america', 'black panther']\n",
      "['spider man', 'thor', 'hulk', 'black panther', 'iron man', 'captain america', 'black panther']\n",
      "['spider man', 'doctor strange', 'black panther', 'iron man', 'captain america', 'black panther']\n",
      "['black panther', 'black panther', 'captain america', 'doctor strange', 'iron man', 'spider man']\n"
     ]
    }
   ],
   "source": [
    "heros=['spider man','thor','hulk','iron man','captain america']\n",
    "\n",
    "# #qn 1\n",
    "print('The length of the list is', len(heros))\n",
    "\n",
    "# # qn 2\n",
    "heros.append('black panther')\n",
    "print (heros)\n",
    "\n",
    "#qn 3\n",
    "\n",
    "heros.insert(3, 'black panther')\n",
    "print(heros)\n",
    "\n",
    "#qn 4\n",
    "heros[1:3] = ['doctor strange']\n",
    "print (heros)\n",
    "\n",
    "#qn 5\n",
    "heros.sort()\n",
    "print(heros)"
   ]
  },
  {
   "attachments": {},
   "cell_type": "markdown",
   "metadata": {},
   "source": [
    "### Create a list of all odd numbers between 1 and a max number. Max number is something you need to take from a user using input() function"
   ]
  },
  {
   "cell_type": "code",
   "execution_count": 1,
   "metadata": {},
   "outputs": [],
   "source": [
    "x = int(input(\"Enter the max number\"))\n",
    "odd_numbers = []\n",
    "for i in range(1, x):\n",
    "    if (i%2 != 0):\n",
    "        odd_numbers.append[i]\n",
    "    \n",
    "print(\"Odd numbers\", odd_numbers)"
   ]
  },
  {
   "attachments": {},
   "cell_type": "markdown",
   "metadata": {},
   "source": [
    "# Arrays using Numpy"
   ]
  },
  {
   "cell_type": "code",
   "execution_count": 1,
   "metadata": {},
   "outputs": [],
   "source": [
    "import numpy as np"
   ]
  },
  {
   "cell_type": "code",
   "execution_count": 4,
   "metadata": {},
   "outputs": [
    {
     "data": {
      "text/plain": [
       "array([ 1, 45,  6,  7,  1,  4])"
      ]
     },
     "execution_count": 4,
     "metadata": {},
     "output_type": "execute_result"
    }
   ],
   "source": [
    "# creating numpy arrays from python list\n",
    "lst = [1, 45, 6,7, 1, 4]\n",
    "arr= np.array(lst)\n",
    "arr"
   ]
  },
  {
   "cell_type": "code",
   "execution_count": 5,
   "metadata": {},
   "outputs": [
    {
     "data": {
      "text/plain": [
       "array([ 1., 45.,  6.,  7.,  1.,  4.])"
      ]
     },
     "execution_count": 5,
     "metadata": {},
     "output_type": "execute_result"
    }
   ],
   "source": [
    "# we can explicitly set the datatype of the numpy array using dtype= '' keyword\n",
    "arr = np.array(lst, dtype='float')\n",
    "arr"
   ]
  },
  {
   "cell_type": "code",
   "execution_count": 7,
   "metadata": {},
   "outputs": [
    {
     "data": {
      "text/plain": [
       "array([[1, 2, 3],\n",
       "       [3, 4, 5],\n",
       "       [5, 6, 7]])"
      ]
     },
     "execution_count": 7,
     "metadata": {},
     "output_type": "execute_result"
    }
   ],
   "source": [
    "#unlike python lists, we can create multi dimensional arrays using numpy \n",
    "\n",
    "arr1 = np.array([range(i, i+3) for i in [1, 3, 5]])\n",
    "arr1\n"
   ]
  },
  {
   "cell_type": "code",
   "execution_count": 23,
   "metadata": {},
   "outputs": [
    {
     "name": "stdout",
     "output_type": "stream",
     "text": [
      "[0 0 0 0 0 0 0 0 0 0] : This creates a length-10 integer array filled with zeros\n",
      "\n",
      "\n",
      "[[1. 1. 1. 1. 1. 1.]\n",
      " [1. 1. 1. 1. 1. 1.]\n",
      " [1. 1. 1. 1. 1. 1.]]  : This creats a 3x6 array filled with ones\n",
      "\n",
      "\n",
      "[[3.14 3.14 3.14 3.14 3.14]\n",
      " [3.14 3.14 3.14 3.14 3.14]\n",
      " [3.14 3.14 3.14 3.14 3.14]]:  This creates a 3x5 array filled with 3.14\n",
      "\n",
      "\n",
      "[ 0  2  4  6  8 10 12 14 16 18]:  This creats an array starting at 0 , ending at 20 with step 2 FILLED WITH LINEAR SEQUENCE\n",
      "\n",
      "\n",
      "[[0.15059446 0.23165522]\n",
      " [0.17616386 0.21891891]]\n",
      "\n",
      "\n",
      "[[-0.06780365 -0.0164108   0.45031739]\n",
      " [-0.30012767 -0.72920579 -0.03470194]\n",
      " [-1.53177953 -1.31346055 -0.07483209]]: creates a 3x3 array of normally distributed random values with MEAN 0 AND STARNDARD DEVIATION 1\n"
     ]
    }
   ],
   "source": [
    "# creating arrays from scratch \n",
    "\n",
    "print(f'{np.zeros(10, dtype=int)} : This creates a length-10 integer array filled with zeros')\n",
    "print('\\n') \n",
    "print(f'{np.ones((3, 6), dtype= float)}  : This creats a 3x6 array filled with ones' )\n",
    "print('\\n') \n",
    "print(f'{np.full((3, 5), 3.14)}:  This creates a 3x5 array filled with 3.14')\n",
    "print('\\n') \n",
    "print(f'{np.arange(0, 20, 2)}:  This creats an array starting at 0 , ending at 20 with step 2 FILLED WITH LINEAR SEQUENCE' )\n",
    "print('\\n') \n",
    "print(f'{np.random.random((2,2))}')\n",
    "print('\\n') \n",
    "print(f'{np.random.normal(0, 1, (3, 3))}: creates a 3x3 array of normally distributed random values with MEAN 0 AND STARNDARD DEVIATION 1')\n"
   ]
  },
  {
   "cell_type": "code",
   "execution_count": 31,
   "metadata": {},
   "outputs": [
    {
     "data": {
      "text/plain": [
       "4"
      ]
     },
     "execution_count": 31,
     "metadata": {},
     "output_type": "execute_result"
    }
   ],
   "source": [
    "random_array = np.arange(1, 5, 1)\n",
    "random_array.mean()\n",
    "random_array.max()"
   ]
  },
  {
   "attachments": {},
   "cell_type": "markdown",
   "metadata": {},
   "source": [
    "### BASIC ARRAY MANIPULATION\n",
    "\n",
    "- *Attributes of arrays*: Determining the size, shape, memory consumption, and data types of arrays\n",
    "- *Indexing of arrays*: Getting and setting the value of individual array elements\n",
    "- *Slicing of arrays*: Getting and setting smaller subarrays within a larger array\n",
    "- *Reshaping of arrays*: Changing the shape of a given array\n",
    "- *Joining and splitting of arrays*: Combining multiple arrays into one, and splitting one array into many"
   ]
  },
  {
   "attachments": {},
   "cell_type": "markdown",
   "metadata": {},
   "source": [
    "### Numpy Array attributes"
   ]
  },
  {
   "cell_type": "code",
   "execution_count": 46,
   "metadata": {},
   "outputs": [],
   "source": [
    "np.random.seed(0)   #seed for reprducibility\n",
    "x1 = np.random.randint(10, size=6)      # 1D array ; here 10 means random integers upto 10\n",
    "x2 = np.random.randint(10, size= (3, 4))  # 2D array\n",
    "x3 = np.random.randint(10, size = (3, 4, 5))  # 3D array"
   ]
  },
  {
   "attachments": {},
   "cell_type": "markdown",
   "metadata": {},
   "source": [
    "each array has attribute ndim (number of dimensions), shape (size of each dimension), and size (total size of an array)"
   ]
  },
  {
   "cell_type": "code",
   "execution_count": 47,
   "metadata": {},
   "outputs": [
    {
     "name": "stdout",
     "output_type": "stream",
     "text": [
      "[12 15  0  3  3  7]\n",
      "x1 ndim 1\n",
      "x1 shape (6,)\n",
      "x1 size 6\n"
     ]
    }
   ],
   "source": [
    "print(x1)\n",
    "print(\"x1 ndim\", x1.ndim)\n",
    "print(\"x1 shape\", x1.shape)\n",
    "print(\"x1 size\", x1.size)"
   ]
  },
  {
   "cell_type": "code",
   "execution_count": 44,
   "metadata": {},
   "outputs": [
    {
     "name": "stdout",
     "output_type": "stream",
     "text": [
      "[[3 5 2 4]\n",
      " [7 6 8 8]\n",
      " [1 6 7 7]]\n",
      "x2 ndim:  2\n",
      "x2 shape: (3, 4)\n",
      "x2 size:  12\n"
     ]
    }
   ],
   "source": [
    "print(x2)\n",
    "print(\"x2 ndim: \", x2.ndim)\n",
    "print(\"x2 shape:\", x2.shape)\n",
    "print(\"x2 size: \", x2.size)"
   ]
  },
  {
   "cell_type": "code",
   "execution_count": 43,
   "metadata": {},
   "outputs": [
    {
     "name": "stdout",
     "output_type": "stream",
     "text": [
      "[[[8 1 5 9 8]\n",
      "  [9 4 3 0 3]\n",
      "  [5 0 2 3 8]\n",
      "  [1 3 3 3 7]]\n",
      "\n",
      " [[0 1 9 9 0]\n",
      "  [4 7 3 2 7]\n",
      "  [2 0 0 4 5]\n",
      "  [5 6 8 4 1]]\n",
      "\n",
      " [[4 9 8 1 1]\n",
      "  [7 9 9 3 6]\n",
      "  [7 2 0 3 5]\n",
      "  [9 4 4 6 4]]]\n",
      "x3 ndim:  3\n",
      "x3 shape: (3, 4, 5)\n",
      "x3 size:  60\n"
     ]
    }
   ],
   "source": [
    "print(x3)\n",
    "print(\"x3 ndim: \", x3.ndim)\n",
    "print(\"x3 shape:\", x3.shape)\n",
    "print(\"x3 size: \", x3.size)"
   ]
  },
  {
   "attachments": {},
   "cell_type": "markdown",
   "metadata": {},
   "source": [
    "other attributes include \"dtype\", \"itemsize\" and \"nbytes\"\n"
   ]
  },
  {
   "cell_type": "code",
   "execution_count": 49,
   "metadata": {},
   "outputs": [
    {
     "name": "stdout",
     "output_type": "stream",
     "text": [
      "[12 15  0  3  3  7]\n",
      "dtype int32\n",
      "itemsize: 4 bytes\n",
      "nbytes: 24 bytes\n"
     ]
    }
   ],
   "source": [
    "print(x1)\n",
    "print(\"dtype\", x1.dtype)\n",
    "print(\"itemsize:\", x1.itemsize, \"bytes\")    # itemsize=  size in bytes of each member of the array\n",
    "print(\"nbytes:\", x1.nbytes, \"bytes\")        # nbytes =  size in bytes of entire array"
   ]
  },
  {
   "attachments": {},
   "cell_type": "markdown",
   "metadata": {},
   "source": [
    "### Array indexing\n",
    "\n",
    "Same concept as that of standard python list indexing"
   ]
  },
  {
   "cell_type": "code",
   "execution_count": 63,
   "metadata": {},
   "outputs": [
    {
     "name": "stdout",
     "output_type": "stream",
     "text": [
      "random array [8 3 8 2 8]\n"
     ]
    }
   ],
   "source": [
    "# one thing to keep in mind:  since arrays only support elements of same datatypes, explicit entry of element with different datatype will result\n",
    "# into value being truncated \n",
    "\n",
    "arr = np.random.randint(10, size= 5, dtype = \"int\")\n",
    "print(\"random array\",arr)\n"
   ]
  },
  {
   "cell_type": "code",
   "execution_count": 64,
   "metadata": {},
   "outputs": [
    {
     "name": "stdout",
     "output_type": "stream",
     "text": [
      "[8 3 8 3 8]\n"
     ]
    }
   ],
   "source": [
    "arr[3] =3.1415   # the value is truncated \n",
    "print(arr)"
   ]
  },
  {
   "attachments": {},
   "cell_type": "markdown",
   "metadata": {},
   "source": [
    "### ARRAY SLICING\n",
    "\n",
    "syntax:\n",
    "x[start: stop: step]"
   ]
  },
  {
   "cell_type": "code",
   "execution_count": 65,
   "metadata": {},
   "outputs": [
    {
     "data": {
      "text/plain": [
       "array([0, 1, 2, 3, 4, 5, 6, 7, 8, 9])"
      ]
     },
     "execution_count": 65,
     "metadata": {},
     "output_type": "execute_result"
    }
   ],
   "source": [
    "x = np.arange(10)\n",
    "x"
   ]
  },
  {
   "cell_type": "code",
   "execution_count": 66,
   "metadata": {},
   "outputs": [
    {
     "data": {
      "text/plain": [
       "array([0, 1, 2, 3, 4])"
      ]
     },
     "execution_count": 66,
     "metadata": {},
     "output_type": "execute_result"
    }
   ],
   "source": [
    "x[:5] # elements before index 5"
   ]
  },
  {
   "cell_type": "code",
   "execution_count": 67,
   "metadata": {},
   "outputs": [
    {
     "data": {
      "text/plain": [
       "array([5, 6, 7, 8, 9])"
      ]
     },
     "execution_count": 67,
     "metadata": {},
     "output_type": "execute_result"
    }
   ],
   "source": [
    "x[5:]  #elements after index 5"
   ]
  },
  {
   "cell_type": "code",
   "execution_count": 68,
   "metadata": {},
   "outputs": [
    {
     "data": {
      "text/plain": [
       "array([3, 4, 5, 6, 7])"
      ]
     },
     "execution_count": 68,
     "metadata": {},
     "output_type": "execute_result"
    }
   ],
   "source": [
    "x[3:8]"
   ]
  },
  {
   "cell_type": "code",
   "execution_count": 69,
   "metadata": {},
   "outputs": [
    {
     "data": {
      "text/plain": [
       "array([0, 2, 4, 6, 8])"
      ]
     },
     "execution_count": 69,
     "metadata": {},
     "output_type": "execute_result"
    }
   ],
   "source": [
    "x[::2]"
   ]
  },
  {
   "cell_type": "code",
   "execution_count": 70,
   "metadata": {},
   "outputs": [
    {
     "data": {
      "text/plain": [
       "array([1, 3, 5, 7, 9])"
      ]
     },
     "execution_count": 70,
     "metadata": {},
     "output_type": "execute_result"
    }
   ],
   "source": [
    "x[1::2]"
   ]
  },
  {
   "cell_type": "code",
   "execution_count": 71,
   "metadata": {},
   "outputs": [
    {
     "data": {
      "text/plain": [
       "array([9, 8, 7, 6, 5, 4, 3, 2, 1, 0])"
      ]
     },
     "execution_count": 71,
     "metadata": {},
     "output_type": "execute_result"
    }
   ],
   "source": [
    "x[::-1]"
   ]
  },
  {
   "cell_type": "code",
   "execution_count": 72,
   "metadata": {},
   "outputs": [
    {
     "data": {
      "text/plain": [
       "array([5, 3, 1])"
      ]
     },
     "execution_count": 72,
     "metadata": {},
     "output_type": "execute_result"
    }
   ],
   "source": [
    "x[5::-2]"
   ]
  },
  {
   "cell_type": "code",
   "execution_count": 73,
   "metadata": {},
   "outputs": [
    {
     "data": {
      "text/plain": [
       "array([0, 1, 2, 3, 4, 5, 6])"
      ]
     },
     "execution_count": 73,
     "metadata": {},
     "output_type": "execute_result"
    }
   ],
   "source": [
    "x[:-3]"
   ]
  },
  {
   "attachments": {},
   "cell_type": "markdown",
   "metadata": {},
   "source": [
    "### RESHAPING OF ARRAYS\n",
    "Another useful type of operation is reshaping of arrays.\n",
    "The most flexible way of doing this is with the ``reshape`` method.\n",
    "For example, if you want to put the numbers 1 through 9 in a $3 \\times 3$ grid, you can do the following:"
   ]
  },
  {
   "cell_type": "code",
   "execution_count": 76,
   "metadata": {},
   "outputs": [
    {
     "data": {
      "text/plain": [
       "array([1, 2, 3, 4, 5, 6, 7, 8, 9])"
      ]
     },
     "execution_count": 76,
     "metadata": {},
     "output_type": "execute_result"
    }
   ],
   "source": [
    "grid = np.arange(1, 10)\n",
    "grid"
   ]
  },
  {
   "cell_type": "code",
   "execution_count": 77,
   "metadata": {},
   "outputs": [
    {
     "data": {
      "text/plain": [
       "array([[1, 2, 3],\n",
       "       [4, 5, 6],\n",
       "       [7, 8, 9]])"
      ]
     },
     "execution_count": 77,
     "metadata": {},
     "output_type": "execute_result"
    }
   ],
   "source": [
    "grid = grid.reshape((3,3))\n",
    "grid"
   ]
  },
  {
   "attachments": {},
   "cell_type": "markdown",
   "metadata": {},
   "source": [
    "### JOINING AND SPLITTING OF ARRAY"
   ]
  },
  {
   "cell_type": "code",
   "execution_count": 80,
   "metadata": {},
   "outputs": [
    {
     "data": {
      "text/plain": [
       "array([ 1,  3,  4,  5,  6,  7, 10, 34,  6, 84,  5])"
      ]
     },
     "execution_count": 80,
     "metadata": {},
     "output_type": "execute_result"
    }
   ],
   "source": [
    "X = np.array([1, 3, 4, 5, 6, 7])\n",
    "Y = np.array([10, 34, 6, 84, 5])\n",
    "np.concatenate([X, Y])"
   ]
  },
  {
   "cell_type": "code",
   "execution_count": 82,
   "metadata": {},
   "outputs": [
    {
     "data": {
      "text/plain": [
       "array([ 0,  1,  2,  3,  4,  5,  6,  7,  8,  9,  1,  3,  4,  5,  6,  7, 10,\n",
       "       34,  6, 84,  5])"
      ]
     },
     "execution_count": 82,
     "metadata": {},
     "output_type": "execute_result"
    }
   ],
   "source": [
    "# multiple arrays can be concatenated at once\n",
    "np.concatenate([x, X, Y])   "
   ]
  },
  {
   "attachments": {},
   "cell_type": "markdown",
   "metadata": {},
   "source": [
    "##### Splitting of arrays\n",
    "\n",
    "the opposite of concatenation! can be done via `np.split, np.hsplit, np.vsplit`"
   ]
  },
  {
   "cell_type": "code",
   "execution_count": 86,
   "metadata": {},
   "outputs": [
    {
     "name": "stdout",
     "output_type": "stream",
     "text": [
      "[1 3 4] [5 7 8] [ 9 34]\n"
     ]
    }
   ],
   "source": [
    "a= [1,3, 4, 5, 7, 8, 9, 34]\n",
    "a1, a2, a3 = np.split(a, [3, 6])    # here we pass list of indices as an arguement i.e 1st array forms from index 0 upto 2, 2nd from 3 upto 5....\n",
    "print(a1, a2, a3)"
   ]
  },
  {
   "cell_type": "code",
   "execution_count": null,
   "metadata": {},
   "outputs": [],
   "source": []
  }
 ],
 "metadata": {
  "kernelspec": {
   "display_name": "Python 3",
   "language": "python",
   "name": "python3"
  },
  "language_info": {
   "codemirror_mode": {
    "name": "ipython",
    "version": 3
   },
   "file_extension": ".py",
   "mimetype": "text/x-python",
   "name": "python",
   "nbconvert_exporter": "python",
   "pygments_lexer": "ipython3",
   "version": "3.9.5"
  },
  "orig_nbformat": 4
 },
 "nbformat": 4,
 "nbformat_minor": 2
}
